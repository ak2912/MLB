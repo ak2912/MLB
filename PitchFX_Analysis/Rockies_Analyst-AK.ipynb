{
 "cells": [
  {
   "cell_type": "markdown",
   "metadata": {},
   "source": [
    "For my response, I will integrate code into the text so it is easy to follow my thought process.\n",
    "\n",
    "Caveat - I'm currently working at an early-stage startup so spare hours are hard to come by.  I wanted to respect your guidelines and return my response in a timely fashion, but admittedly I would have preferred to have spent more time thinking deeply through your questions."
   ]
  },
  {
   "cell_type": "code",
   "execution_count": null,
   "metadata": {
    "collapsed": true
   },
   "outputs": [],
   "source": []
  },
  {
   "cell_type": "markdown",
   "metadata": {},
   "source": [
    "Question 1:"
   ]
  },
  {
   "cell_type": "markdown",
   "metadata": {},
   "source": [
    "I have hunches, but I can't really do this question justice without a thorough data dive.  \n",
    "\n",
    "Intially, I leaned toward naming certain physical attributes (i.e. size, speed) that are \"over\"valued in some circles, but I wouldn't feel comfortable tagging them as attributes with the \"least value\". \n",
    "\n",
    "With more time, I would gather a database with a list of physical attributes and scouting grades per player and analyze my outcomes of interest (i.e. WAR) in relation to each attribute."
   ]
  },
  {
   "cell_type": "code",
   "execution_count": null,
   "metadata": {
    "collapsed": true
   },
   "outputs": [],
   "source": []
  },
  {
   "cell_type": "markdown",
   "metadata": {},
   "source": [
    "Question 2:\n",
    "\n"
   ]
  },
  {
   "cell_type": "markdown",
   "metadata": {
    "collapsed": true
   },
   "source": [
    "I need to punt this question, unfortuantely, because due to professional reasons I've been more unplugged than I would like from baseball reseach this season.  \n",
    "\n",
    "If I may, I'll add - the most fascinating research article I've read, period, is \"The Injury Zone\" by Josh Kalk.  I think this article only scratches the surface on the kind of analysis that can be done with more advanced machine learning methods, and I'd imagine that the Rays (among others) have made great strides in developing this research further in-house.\n",
    "\n",
    "I think it remains an open question to the degree with which one can predict/prevent pitcher injuries, but teams that can crack this code will be at a significant competitive advantage. "
   ]
  },
  {
   "cell_type": "code",
   "execution_count": null,
   "metadata": {
    "collapsed": true
   },
   "outputs": [],
   "source": []
  },
  {
   "cell_type": "markdown",
   "metadata": {},
   "source": [
    "Question 3:\n",
    "For this question, I focused on the two projection systems provided by Fangraphs - Zips and Steamer."
   ]
  },
  {
   "cell_type": "code",
   "execution_count": 2,
   "metadata": {
    "collapsed": true
   },
   "outputs": [],
   "source": [
    "%matplotlib inline\n",
    "import pandas as pd\n",
    "import matplotlib.pyplot as plt\n",
    "import seaborn as sns\n",
    "from matplotlib import pyplot\n",
    "import numpy"
   ]
  },
  {
   "cell_type": "code",
   "execution_count": 3,
   "metadata": {
    "collapsed": false
   },
   "outputs": [
    {
     "data": {
      "image/png": "[encoded data removed]",
      "text/plain": [
       "<matplotlib.figure.Figure at 0x104072c90>"
      ]
     },
     "metadata": {},
     "output_type": "display_data"
    }
   ],
   "source": [
    "zips_batting = pd.read_csv(\"Zips-Batting.csv\")\n",
    "zips_pitching = pd.read_csv(\"Zips-Pitching.csv\")\n",
    "steamer_batting = pd.read_csv(\"Steamer-Batting.csv\")\n",
    "steamer_pitching = pd.read_csv(\"Steamer-Pitching.csv\")\n",
    "batting_2016 = pd.read_csv(\"2016-Batting.csv\")\n",
    "pitching_2016 = pd.read_csv(\"2016-Pitching.csv\")\n",
    "\n",
    "##subsetting only those with at least 502 PA\n",
    "batting_2016 = batting_2016.loc[batting_2016['PA']>=502]\n",
    "\n",
    "##using wOBA as my measure of interest for hitting\n",
    "zips_batting_mod = zips_batting[zips_batting.columns[[0,20]]]\n",
    "zips_batting_mod.columns = ['Name', 'zips_wOBA']\n",
    "steamer_batting_mod = steamer_batting[steamer_batting.columns[[0,21]]]\n",
    "steamer_batting_mod.columns = ['Name', 'steamer_wOBA']\n",
    "batting_2016_mod = batting_2016[batting_2016.columns[[0,15]]]\n",
    "batting_2016_mod.columns = ['Name', '2016_wOBA']\n",
    "\n",
    "##creating combined df\n",
    "dfs_hitting = [zips_batting_mod, steamer_batting_mod, batting_2016_mod]\n",
    "df_hitting = reduce(lambda left, right: pd.merge(left, right, on=\"Name\"), dfs_hitting)\n",
    "\n",
    "##issue with a couple players  in dataset\n",
    "df_hitting = df_hitting[df_hitting.Name != \"Carlos Gonzalez\"]\n",
    "df_hitting = df_hitting[df_hitting.Name != \"Victor Martinez\"]\n",
    "\n",
    "##adding columns to compare projection systems\n",
    "df_hitting['zips_diff']=df_hitting['2016_wOBA']-df_hitting['zips_wOBA']\n",
    "df_hitting['steamer_diff']=df_hitting['2016_wOBA']-df_hitting['steamer_wOBA']\n",
    "df_hitting['projection_diff']=df_hitting['zips_wOBA']-df_hitting['steamer_wOBA']\n",
    "\n",
    "##visualizing difference between zips and steamer... not much\n",
    "pyplot.hist(df_hitting['zips_diff'], alpha=.7, bins = numpy.linspace(-.1, .2, 50))\n",
    "pyplot.hist(df_hitting['steamer_diff'], alpha=.7, bins = numpy.linspace(-.1, .2, 50))\n",
    "pyplot.show()"
   ]
  },
  {
   "cell_type": "code",
   "execution_count": 4,
   "metadata": {
    "collapsed": true
   },
   "outputs": [
    {
     "data": {
      "text/plain": [
       "count    144.000000\n",
       "mean       0.000972\n",
       "std        0.008558\n",
       "min       -0.023000\n",
       "25%       -0.005000\n",
       "50%        0.001000\n",
       "75%        0.006000\n",
       "max        0.026000\n",
       "Name: projection_diff, dtype: float64"
      ]
     },
     "execution_count": 4,
     "metadata": {},
     "output_type": "execute_result"
    }
   ],
   "source": [
    "df_hitting['zips_diff'].describe()\n",
    "##mean = 0.013368\n",
    "##SD = 0.025585\n",
    "df_hitting['steamer_diff'].describe()\n",
    "##mean = 0.01434\n",
    "##SD = 0.02528\n",
    "df_hitting['projection_diff'].describe()\n",
    "##mean = 0.000972\n",
    "##SD = 0.008558"
   ]
  },
  {
   "cell_type": "code",
   "execution_count": 5,
   "metadata": {
    "collapsed": false
   },
   "outputs": [
    {
     "data": {
      "text/html": [
       "<div>\n",
       "<table border=\"1\" class=\"dataframe\">\n",
       "  <thead>\n",
       "    <tr style=\"text-align: right;\">\n",
       "      <th></th>\n",
       "      <th>Name</th>\n",
       "      <th>zips_wOBA</th>\n",
       "      <th>steamer_wOBA</th>\n",
       "      <th>2016_wOBA</th>\n",
       "      <th>zips_diff</th>\n",
       "      <th>steamer_diff</th>\n",
       "      <th>projection_diff</th>\n",
       "    </tr>\n",
       "  </thead>\n",
       "  <tbody>\n",
       "    <tr>\n",
       "      <th>0</th>\n",
       "      <td>Bryce Harper</td>\n",
       "      <td>0.430</td>\n",
       "      <td>0.411</td>\n",
       "      <td>0.343</td>\n",
       "      <td>-0.087</td>\n",
       "      <td>-0.068</td>\n",
       "      <td>0.019</td>\n",
       "    </tr>\n",
       "    <tr>\n",
       "      <th>6</th>\n",
       "      <td>Chris Davis</td>\n",
       "      <td>0.382</td>\n",
       "      <td>0.358</td>\n",
       "      <td>0.340</td>\n",
       "      <td>-0.042</td>\n",
       "      <td>-0.018</td>\n",
       "      <td>0.024</td>\n",
       "    </tr>\n",
       "    <tr>\n",
       "      <th>11</th>\n",
       "      <td>J.D. Martinez</td>\n",
       "      <td>0.370</td>\n",
       "      <td>0.346</td>\n",
       "      <td>0.384</td>\n",
       "      <td>0.014</td>\n",
       "      <td>0.038</td>\n",
       "      <td>0.024</td>\n",
       "    </tr>\n",
       "    <tr>\n",
       "      <th>21</th>\n",
       "      <td>Chris Carter</td>\n",
       "      <td>0.358</td>\n",
       "      <td>0.332</td>\n",
       "      <td>0.346</td>\n",
       "      <td>-0.012</td>\n",
       "      <td>0.014</td>\n",
       "      <td>0.026</td>\n",
       "    </tr>\n",
       "    <tr>\n",
       "      <th>26</th>\n",
       "      <td>Justin Turner</td>\n",
       "      <td>0.354</td>\n",
       "      <td>0.330</td>\n",
       "      <td>0.353</td>\n",
       "      <td>-0.001</td>\n",
       "      <td>0.023</td>\n",
       "      <td>0.024</td>\n",
       "    </tr>\n",
       "    <tr>\n",
       "      <th>34</th>\n",
       "      <td>Yoenis Cespedes</td>\n",
       "      <td>0.343</td>\n",
       "      <td>0.324</td>\n",
       "      <td>0.369</td>\n",
       "      <td>0.026</td>\n",
       "      <td>0.045</td>\n",
       "      <td>0.019</td>\n",
       "    </tr>\n",
       "    <tr>\n",
       "      <th>80</th>\n",
       "      <td>Nomar Mazara</td>\n",
       "      <td>0.321</td>\n",
       "      <td>0.306</td>\n",
       "      <td>0.318</td>\n",
       "      <td>-0.003</td>\n",
       "      <td>0.012</td>\n",
       "      <td>0.015</td>\n",
       "    </tr>\n",
       "    <tr>\n",
       "      <th>92</th>\n",
       "      <td>Asdrubal Cabrera</td>\n",
       "      <td>0.317</td>\n",
       "      <td>0.301</td>\n",
       "      <td>0.345</td>\n",
       "      <td>0.028</td>\n",
       "      <td>0.044</td>\n",
       "      <td>0.016</td>\n",
       "    </tr>\n",
       "    <tr>\n",
       "      <th>101</th>\n",
       "      <td>Odubel Herrera</td>\n",
       "      <td>0.314</td>\n",
       "      <td>0.298</td>\n",
       "      <td>0.338</td>\n",
       "      <td>0.024</td>\n",
       "      <td>0.040</td>\n",
       "      <td>0.016</td>\n",
       "    </tr>\n",
       "  </tbody>\n",
       "</table>\n",
       "</div>"
      ],
      "text/plain": [
       "                 Name  zips_wOBA  steamer_wOBA  2016_wOBA  zips_diff  \\\n",
       "0        Bryce Harper      0.430         0.411      0.343     -0.087   \n",
       "6         Chris Davis      0.382         0.358      0.340     -0.042   \n",
       "11      J.D. Martinez      0.370         0.346      0.384      0.014   \n",
       "21       Chris Carter      0.358         0.332      0.346     -0.012   \n",
       "26      Justin Turner      0.354         0.330      0.353     -0.001   \n",
       "34    Yoenis Cespedes      0.343         0.324      0.369      0.026   \n",
       "80       Nomar Mazara      0.321         0.306      0.318     -0.003   \n",
       "92   Asdrubal Cabrera      0.317         0.301      0.345      0.028   \n",
       "101    Odubel Herrera      0.314         0.298      0.338      0.024   \n",
       "\n",
       "     steamer_diff  projection_diff  \n",
       "0          -0.068            0.019  \n",
       "6          -0.018            0.024  \n",
       "11          0.038            0.024  \n",
       "21          0.014            0.026  \n",
       "26          0.023            0.024  \n",
       "34          0.045            0.019  \n",
       "80          0.012            0.015  \n",
       "92          0.044            0.016  \n",
       "101         0.040            0.016  "
      ]
     },
     "execution_count": 5,
     "metadata": {},
     "output_type": "execute_result"
    }
   ],
   "source": [
    "##examining outliers\n",
    "df_hitting.loc[df_hitting['projection_diff']>=abs(.015)]"
   ]
  },
  {
   "cell_type": "markdown",
   "metadata": {},
   "source": [
    "When it comes to hitting projections, there doesn't appear to be much that differentiates between Zips and Steamer.  Both slightly overestimated wOBA (mean difference of 0.013368 - Zips, 0.01434 - Steamer), and both appear to be roughly equally accurate when looking at the SD of the difference (0.025585 - Zips,  0.02528 - Steamer).\n",
    "\n",
    "The table above has the hitters where Zips and Steamer differ the most.  It does seem like Steamer is more conservative in its estimates, but it's not clear whether it helps/hurts its cause.  For example, being more conservative with Chris Davis helps Steamer's accuracy, but being more conservative with JD Martinez has Steamer looking worse off."
   ]
  },
  {
   "cell_type": "code",
   "execution_count": null,
   "metadata": {
    "collapsed": true
   },
   "outputs": [],
   "source": []
  },
  {
   "cell_type": "code",
   "execution_count": 6,
   "metadata": {
    "collapsed": false
   },
   "outputs": [
    {
     "data": {
      "image/png": "[encoded data removed]",
      "text/plain": [
       "<matplotlib.figure.Figure at 0x104064c90>"
      ]
     },
     "metadata": {},
     "output_type": "display_data"
    }
   ],
   "source": [
    "##Pitching\n",
    "##subsetting only thouse with at least 30 IP\n",
    "pitching_2016 = pitching_2016.loc[pitching_2016['IP']>=30]\n",
    "\n",
    "##using WAR as my measure of interest for pitching\n",
    "zips_pitching_mod = zips_pitching[zips_pitching.columns[[0,17]]]\n",
    "zips_pitching_mod.columns = ['Name', 'zips_WAR']\n",
    "steamer_pitching_mod = steamer_pitching[steamer_pitching.columns[[0,18]]]\n",
    "steamer_pitching_mod.columns = ['Name', 'steamer_WAR']\n",
    "pitching_2016_mod = pitching_2016[pitching_2016.columns[[0,18]]]\n",
    "pitching_2016_mod.columns = ['Name', '2016_WAR']\n",
    "\n",
    "##creating combined df\n",
    "dfs_pitching = [zips_pitching_mod, steamer_pitching_mod, pitching_2016_mod]\n",
    "df_pitching = reduce(lambda left, right: pd.merge(left, right, on=\"Name\"), dfs_pitching)\n",
    "\n",
    "##issue with a couple players  in dataset\n",
    "df_pitching = df_pitching[df_pitching.Name != \"Jose Fernandez\"]\n",
    "df_pitching = df_pitching[df_pitching.Name != \"Cody Reed\"]\n",
    "\n",
    "##adding columns to compare projection systems\n",
    "df_pitching['zips_diff']=df_pitching['2016_WAR']-df_pitching['zips_WAR']\n",
    "df_pitching['steamer_diff']=df_pitching['2016_WAR']-df_pitching['steamer_WAR']\n",
    "df_pitching['projection_diff']=df_pitching['zips_WAR']-df_pitching['steamer_WAR']\n",
    "\n",
    "##visualizing difference between zips and steamer... again, not much\n",
    "pyplot.hist(df_pitching['zips_diff'], alpha=.7, bins = numpy.linspace(-4, 6.5, 50))\n",
    "pyplot.hist(df_pitching['steamer_diff'], alpha=.7, bins = numpy.linspace(-4, 6.5, 50))\n",
    "pyplot.show()"
   ]
  },
  {
   "cell_type": "code",
   "execution_count": 7,
   "metadata": {
    "collapsed": true
   },
   "outputs": [
    {
     "data": {
      "text/plain": [
       "count    426.000000\n",
       "mean       0.150235\n",
       "std        0.449902\n",
       "min       -1.700000\n",
       "25%       -0.100000\n",
       "50%        0.200000\n",
       "75%        0.400000\n",
       "max        1.800000\n",
       "Name: projection_diff, dtype: float64"
      ]
     },
     "execution_count": 7,
     "metadata": {},
     "output_type": "execute_result"
    }
   ],
   "source": [
    "df_pitching['zips_diff'].describe()\n",
    "##mean = -0.104225\n",
    "##SD = 1.079425\n",
    "df_pitching['steamer_diff'].describe()\n",
    "##mean = 0.046009\n",
    "##SD = 1.061872\n",
    "df_pitching['projection_diff'].describe()\n",
    "##mean = 0.150235\n",
    "##SD = 0.449902"
   ]
  },
  {
   "cell_type": "code",
   "execution_count": 8,
   "metadata": {
    "collapsed": false
   },
   "outputs": [
    {
     "data": {
      "text/html": [
       "<div>\n",
       "<table border=\"1\" class=\"dataframe\">\n",
       "  <thead>\n",
       "    <tr style=\"text-align: right;\">\n",
       "      <th></th>\n",
       "      <th>Name</th>\n",
       "      <th>zips_WAR</th>\n",
       "      <th>steamer_WAR</th>\n",
       "      <th>2016_WAR</th>\n",
       "      <th>zips_diff</th>\n",
       "      <th>steamer_diff</th>\n",
       "      <th>projection_diff</th>\n",
       "    </tr>\n",
       "  </thead>\n",
       "  <tbody>\n",
       "    <tr>\n",
       "      <th>118</th>\n",
       "      <td>Julio Urias</td>\n",
       "      <td>1.4</td>\n",
       "      <td>0.1</td>\n",
       "      <td>1.8</td>\n",
       "      <td>0.4</td>\n",
       "      <td>1.7</td>\n",
       "      <td>1.3</td>\n",
       "    </tr>\n",
       "    <tr>\n",
       "      <th>157</th>\n",
       "      <td>Matt Andriese</td>\n",
       "      <td>1.9</td>\n",
       "      <td>0.4</td>\n",
       "      <td>2.0</td>\n",
       "      <td>0.1</td>\n",
       "      <td>1.6</td>\n",
       "      <td>1.5</td>\n",
       "    </tr>\n",
       "    <tr>\n",
       "      <th>200</th>\n",
       "      <td>Jose Berrios</td>\n",
       "      <td>2.1</td>\n",
       "      <td>0.8</td>\n",
       "      <td>-0.4</td>\n",
       "      <td>-2.5</td>\n",
       "      <td>-1.2</td>\n",
       "      <td>1.3</td>\n",
       "    </tr>\n",
       "    <tr>\n",
       "      <th>218</th>\n",
       "      <td>Zach Davies</td>\n",
       "      <td>2.0</td>\n",
       "      <td>0.2</td>\n",
       "      <td>2.8</td>\n",
       "      <td>0.8</td>\n",
       "      <td>2.6</td>\n",
       "      <td>1.8</td>\n",
       "    </tr>\n",
       "    <tr>\n",
       "      <th>229</th>\n",
       "      <td>Aaron Blair</td>\n",
       "      <td>1.6</td>\n",
       "      <td>0.4</td>\n",
       "      <td>-0.6</td>\n",
       "      <td>-2.2</td>\n",
       "      <td>-1.0</td>\n",
       "      <td>1.2</td>\n",
       "    </tr>\n",
       "    <tr>\n",
       "      <th>240</th>\n",
       "      <td>Nick Tropeano</td>\n",
       "      <td>1.5</td>\n",
       "      <td>0.3</td>\n",
       "      <td>0.1</td>\n",
       "      <td>-1.4</td>\n",
       "      <td>-0.2</td>\n",
       "      <td>1.2</td>\n",
       "    </tr>\n",
       "    <tr>\n",
       "      <th>250</th>\n",
       "      <td>Steven Brault</td>\n",
       "      <td>1.4</td>\n",
       "      <td>0.0</td>\n",
       "      <td>0.0</td>\n",
       "      <td>-1.4</td>\n",
       "      <td>0.0</td>\n",
       "      <td>1.4</td>\n",
       "    </tr>\n",
       "    <tr>\n",
       "      <th>298</th>\n",
       "      <td>Jake Thompson</td>\n",
       "      <td>1.2</td>\n",
       "      <td>0.0</td>\n",
       "      <td>-0.4</td>\n",
       "      <td>-1.6</td>\n",
       "      <td>-0.4</td>\n",
       "      <td>1.2</td>\n",
       "    </tr>\n",
       "    <tr>\n",
       "      <th>342</th>\n",
       "      <td>Taylor Rogers</td>\n",
       "      <td>1.2</td>\n",
       "      <td>0.0</td>\n",
       "      <td>0.6</td>\n",
       "      <td>-0.6</td>\n",
       "      <td>0.6</td>\n",
       "      <td>1.2</td>\n",
       "    </tr>\n",
       "    <tr>\n",
       "      <th>356</th>\n",
       "      <td>Josh Smith</td>\n",
       "      <td>1.2</td>\n",
       "      <td>0.0</td>\n",
       "      <td>-0.4</td>\n",
       "      <td>-1.6</td>\n",
       "      <td>-0.4</td>\n",
       "      <td>1.2</td>\n",
       "    </tr>\n",
       "  </tbody>\n",
       "</table>\n",
       "</div>"
      ],
      "text/plain": [
       "              Name  zips_WAR  steamer_WAR  2016_WAR  zips_diff  steamer_diff  \\\n",
       "118    Julio Urias       1.4          0.1       1.8        0.4           1.7   \n",
       "157  Matt Andriese       1.9          0.4       2.0        0.1           1.6   \n",
       "200   Jose Berrios       2.1          0.8      -0.4       -2.5          -1.2   \n",
       "218    Zach Davies       2.0          0.2       2.8        0.8           2.6   \n",
       "229    Aaron Blair       1.6          0.4      -0.6       -2.2          -1.0   \n",
       "240  Nick Tropeano       1.5          0.3       0.1       -1.4          -0.2   \n",
       "250  Steven Brault       1.4          0.0       0.0       -1.4           0.0   \n",
       "298  Jake Thompson       1.2          0.0      -0.4       -1.6          -0.4   \n",
       "342  Taylor Rogers       1.2          0.0       0.6       -0.6           0.6   \n",
       "356     Josh Smith       1.2          0.0      -0.4       -1.6          -0.4   \n",
       "\n",
       "     projection_diff  \n",
       "118              1.3  \n",
       "157              1.5  \n",
       "200              1.3  \n",
       "218              1.8  \n",
       "229              1.2  \n",
       "240              1.2  \n",
       "250              1.4  \n",
       "298              1.2  \n",
       "342              1.2  \n",
       "356              1.2  "
      ]
     },
     "execution_count": 8,
     "metadata": {},
     "output_type": "execute_result"
    }
   ],
   "source": [
    "##examining outliers\n",
    "df_pitching.loc[df_pitching['projection_diff']>=abs(1.2)]"
   ]
  },
  {
   "cell_type": "markdown",
   "metadata": {},
   "source": [
    "With pitching, there is slightly more differentiation between the two projection systems.  While both are relatively similar using SD of difference as the measure of accuracy (1.079425 - Zips, 1.061872 - Steamer), Zips appears to slightly overestimate pitching WAR, on average (mean difference of -0.104225 - Zips), while Steamer slightly underestimates pitching WAR (mean difference of 0.046009 - Steamer).\n",
    "\n",
    "Looking at the outliers in the table above, this difference may be chalked up to Zips being more aggressive in its projection of young, unproven pitchers (i.e. Julio Urias, Jose Berrios).\n",
    "\n"
   ]
  },
  {
   "cell_type": "code",
   "execution_count": null,
   "metadata": {
    "collapsed": true
   },
   "outputs": [],
   "source": []
  },
  {
   "cell_type": "markdown",
   "metadata": {
    "collapsed": true
   },
   "source": [
    "Question 4a:\n",
    "Grade the Command for each pitch type that each pitcher throws. "
   ]
  },
  {
   "cell_type": "markdown",
   "metadata": {},
   "source": [
    "For this question, I will only focus on pitches that were thrown more than 10 times, to avoid small sample sizes.\n",
    "\n",
    "Additionally, my grading will be relative to the other pitches/pitchers in the data"
   ]
  },
  {
   "cell_type": "code",
   "execution_count": null,
   "metadata": {
    "collapsed": true
   },
   "outputs": [],
   "source": []
  },
  {
   "cell_type": "code",
   "execution_count": 9,
   "metadata": {
    "collapsed": true
   },
   "outputs": [],
   "source": [
    "#Loading Pitcher Trackman data\n",
    "pitcher_x_xl = pd.ExcelFile(\"PitcherX Game.xlsx\")\n",
    "pitcher_x = pitcher_x_xl.parse(\"Sheet1\")\n",
    "pitcher_y_xl = pd.ExcelFile(\"PitcherY Game.xlsx\")\n",
    "pitcher_y = pitcher_y_xl.parse(\"Sheet1\")\n",
    "pitcher_z_xl = pd.ExcelFile(\"PitcherZ Game.xlsx\")\n",
    "pitcher_z = pitcher_z_xl.parse(\"TMGamesEddie\")"
   ]
  },
  {
   "cell_type": "code",
   "execution_count": 12,
   "metadata": {
    "collapsed": false
   },
   "outputs": [
    {
     "data": {
      "text/plain": [
       "Sinker      54\n",
       "Fastball    24\n",
       "Slider       6\n",
       "ChangeUp     2\n",
       "Cutter       1\n",
       "Name: AutoPitchType, dtype: int64"
      ]
     },
     "execution_count": 12,
     "metadata": {},
     "output_type": "execute_result"
    }
   ],
   "source": [
    "pitcher_x.AutoPitchType.value_counts()"
   ]
  },
  {
   "cell_type": "code",
   "execution_count": 13,
   "metadata": {
    "collapsed": false
   },
   "outputs": [
    {
     "data": {
      "text/plain": [
       "Fastball     80\n",
       "Curveball    10\n",
       "Slider        7\n",
       "ChangeUp      6\n",
       "Cutter        5\n",
       "Name: AutoPitchType, dtype: int64"
      ]
     },
     "execution_count": 13,
     "metadata": {},
     "output_type": "execute_result"
    }
   ],
   "source": [
    "pitcher_y.AutoPitchType.value_counts()"
   ]
  },
  {
   "cell_type": "code",
   "execution_count": 14,
   "metadata": {
    "collapsed": false
   },
   "outputs": [
    {
     "data": {
      "text/plain": [
       "Fastball     47\n",
       "Curveball    13\n",
       "ChangeUp     10\n",
       "Slider        9\n",
       "Cutter        4\n",
       "Name: AutoPitchType, dtype: int64"
      ]
     },
     "execution_count": 14,
     "metadata": {},
     "output_type": "execute_result"
    }
   ],
   "source": [
    "pitcher_z.AutoPitchType.value_counts()"
   ]
  },
  {
   "cell_type": "code",
   "execution_count": 15,
   "metadata": {
    "collapsed": true
   },
   "outputs": [
    {
     "data": {
      "text/plain": [
       "0.22597891798741998"
      ]
     },
     "execution_count": 15,
     "metadata": {},
     "output_type": "execute_result"
    }
   ],
   "source": [
    "##Fastballs\n",
    "pitcher_x.loc[(pitcher_x['AutoPitchType'].isin([\"Fastball\"])) & (pitcher_x['PlateLocSide']>0)].PlateLocSide.std()\n",
    "##0.49880941296546827\n",
    "pitcher_x.loc[(pitcher_x['AutoPitchType'].isin([\"Fastball\"])) & (pitcher_x['PlateLocSide']<0)].PlateLocSide.std()\n",
    "##0.5877160817614123\n",
    "pitcher_y.loc[(pitcher_y['AutoPitchType'].isin([\"Fastball\"])) & (pitcher_y['PlateLocSide']>0)].PlateLocSide.std()\n",
    "##0.5157722059515756\n",
    "pitcher_y.loc[(pitcher_y['AutoPitchType'].isin([\"Fastball\"])) & (pitcher_y['PlateLocSide']<0)].PlateLocSide.std()\n",
    "##0.41340914284425334\n",
    "pitcher_z.loc[(pitcher_z['AutoPitchType'].isin([\"Fastball\"])) & (pitcher_z['PlateLocSide']>0)].PlateLocSide.std()\n",
    "##0.2848173334145777\n",
    "pitcher_z.loc[(pitcher_z['AutoPitchType'].isin([\"Fastball\"])) & (pitcher_z['PlateLocSide']<0)].PlateLocSide.std()\n",
    "##0.37096712818624117\n",
    "\n",
    "##Sinker\n",
    "pitcher_x.loc[(pitcher_x['AutoPitchType'].isin([\"Sinker\"])) & (pitcher_x['PlateLocSide']>0)].PlateLocSide.std()\n",
    "##0.39909283524393163\n",
    "pitcher_x.loc[(pitcher_x['AutoPitchType'].isin([\"Sinker\"])) & (pitcher_x['PlateLocSide']<0)].PlateLocSide.std()\n",
    "##0.42033121841442805\n",
    "\n",
    "##Curveball\n",
    "pitcher_z.loc[(pitcher_z['AutoPitchType'].isin([\"Curveball\"])) & (pitcher_z['PlateLocSide']>0)].PlateLocSide.std()\n",
    "##0.19649576942636876\n",
    "pitcher_z.loc[(pitcher_z['AutoPitchType'].isin([\"Curveball\"])) & (pitcher_z['PlateLocSide']<0)].PlateLocSide.std()\n",
    "##0.22597891798741998"
   ]
  },
  {
   "cell_type": "markdown",
   "metadata": {},
   "source": [
    "To judge command, I divided pitches into whether they were thrown inside/outside, and then measured the SD, or \"spread\", of each subset of pitches.  A pitcher with great command will be able to throw in the same location (i.e. paint the corners) successfully, while a pitcher with poor command will miss with pitches either over the center of the plate or significantly inside/outside.\n",
    "\n",
    "For fastballs, Pitcher Z had the best command while Pitcher X had the worst.\n",
    "\n",
    "Pitcher X had better command with his sinker, which may explain why the sinker was his dominant pitch thrown.\n",
    "\n",
    "Finally, Pitcher Z had a remarkable degree of accuracy on his curveball - even more than his fastball, surprisingly."
   ]
  },
  {
   "cell_type": "code",
   "execution_count": null,
   "metadata": {
    "collapsed": true
   },
   "outputs": [],
   "source": []
  },
  {
   "cell_type": "markdown",
   "metadata": {},
   "source": [
    "Question 4b:\n",
    "Identify each pitcher's out pitch."
   ]
  },
  {
   "cell_type": "code",
   "execution_count": 16,
   "metadata": {
    "collapsed": true
   },
   "outputs": [
    {
     "data": {
      "text/plain": [
       "Fastball     7\n",
       "Curveball    2\n",
       "Slider       2\n",
       "Name: AutoPitchType, dtype: int64"
      ]
     },
     "execution_count": 16,
     "metadata": {},
     "output_type": "execute_result"
    }
   ],
   "source": [
    "pitcher_x.loc[pitcher_x['Strikes']==2].AutoPitchType.value_counts()\n",
    "pitcher_y.loc[pitcher_y['Strikes']==2].AutoPitchType.value_counts()\n",
    "pitcher_z.loc[pitcher_z['Strikes']==2].AutoPitchType.value_counts()"
   ]
  },
  {
   "cell_type": "markdown",
   "metadata": {},
   "source": [
    "I identified the \"out\" pitch as a pitch that would be thrown with two strikes in the count.  From this, the \"out pitch\" for Pitcher X was the Sinker or Fastball, for Pitcher Y - Fastball, and for Pitcher Z - Fastball."
   ]
  },
  {
   "cell_type": "code",
   "execution_count": null,
   "metadata": {
    "collapsed": true
   },
   "outputs": [],
   "source": []
  },
  {
   "cell_type": "markdown",
   "metadata": {},
   "source": [
    "Question 4c: Grade each pitcher's performance by any metric that you find important."
   ]
  },
  {
   "cell_type": "code",
   "execution_count": null,
   "metadata": {
    "collapsed": true
   },
   "outputs": [],
   "source": []
  },
  {
   "cell_type": "markdown",
   "metadata": {},
   "source": [
    "Release Point"
   ]
  },
  {
   "cell_type": "code",
   "execution_count": 17,
   "metadata": {
    "collapsed": false
   },
   "outputs": [
    {
     "data": {
      "text/plain": [
       "<matplotlib.text.Text at 0x103e87850>"
      ]
     },
     "execution_count": 17,
     "metadata": {},
     "output_type": "execute_result"
    },
    {
     "data": {
      "image/png": "[encoded data removed]",
      "text/plain": [
       "<matplotlib.figure.Figure at 0x103e75890>"
      ]
     },
     "metadata": {},
     "output_type": "display_data"
    }
   ],
   "source": [
    "sns.set_context(\"notebook\", font_scale=1.1)\n",
    "sns.set_style(\"ticks\")\n",
    "sns.lmplot('RelSide', 'RelHeight', data = pitcher_x, fit_reg = False, hue = \"AutoPitchType\", scatter_kws={\"marker\": \"D\", \"s\":50})\n",
    "plt.title('Pitcher X - release point')\n",
    "plt.xlabel('X')\n",
    "plt.ylabel('Y')"
   ]
  },
  {
   "cell_type": "code",
   "execution_count": 18,
   "metadata": {
    "collapsed": false
   },
   "outputs": [
    {
     "data": {
      "text/plain": [
       "<matplotlib.text.Text at 0x115720c90>"
      ]
     },
     "execution_count": 18,
     "metadata": {},
     "output_type": "execute_result"
    },
    {
     "data": {
      "image/png": "[encoded data removed]",
      "text/plain": [
       "<matplotlib.figure.Figure at 0x103e755d0>"
      ]
     },
     "metadata": {},
     "output_type": "display_data"
    }
   ],
   "source": [
    "sns.set_context(\"notebook\", font_scale=1.1)\n",
    "sns.set_style(\"ticks\")\n",
    "sns.lmplot('RelSide', 'RelHeight', data = pitcher_y, fit_reg = False, hue = \"AutoPitchType\", scatter_kws={\"marker\": \"D\", \"s\":50})\n",
    "plt.title('Pitcher Y - release point')\n",
    "plt.xlabel('X')\n",
    "plt.ylabel('Y')"
   ]
  },
  {
   "cell_type": "code",
   "execution_count": 19,
   "metadata": {
    "collapsed": false
   },
   "outputs": [
    {
     "data": {
      "text/plain": [
       "<matplotlib.text.Text at 0x1157c5d90>"
      ]
     },
     "execution_count": 19,
     "metadata": {},
     "output_type": "execute_result"
    },
    {
     "data": {
      "image/png": "[encoded data removed]",
      "text/plain": [
       "<matplotlib.figure.Figure at 0x115732890>"
      ]
     },
     "metadata": {},
     "output_type": "display_data"
    }
   ],
   "source": [
    "sns.set_context(\"notebook\", font_scale=1.1)\n",
    "sns.set_style(\"ticks\")\n",
    "sns.lmplot('RelSide', 'RelHeight', data = pitcher_z, fit_reg = False, hue = \"AutoPitchType\", scatter_kws={\"marker\": \"D\", \"s\":50})\n",
    "plt.title('Pitcher Z - release point')\n",
    "plt.xlabel('X')\n",
    "plt.ylabel('Y')"
   ]
  },
  {
   "cell_type": "code",
   "execution_count": 20,
   "metadata": {
    "collapsed": true
   },
   "outputs": [
    {
     "data": {
      "text/plain": [
       "0.10469337574186223"
      ]
     },
     "execution_count": 20,
     "metadata": {},
     "output_type": "execute_result"
    }
   ],
   "source": [
    "pitcher_x.RelSide.std()\n",
    "#0.26410376553473164\n",
    "pitcher_x.RelHeight.std()\n",
    "#0.17800300305778446\n",
    "pitcher_y.RelSide.std()\n",
    "#0.17992749393099092\n",
    "pitcher_y.RelHeight.std()\n",
    "#0.08432426747882854\n",
    "pitcher_z.RelSide.std()\n",
    "#0.1771552364612607\n",
    "pitcher_z.RelHeight.std()\n",
    "#0.10469337574186223"
   ]
  },
  {
   "cell_type": "markdown",
   "metadata": {},
   "source": [
    "Pitcher Y has the most consistent release point, followed by Z and then X.  The difference between Y and Z is nominal, while Pitcher X appears most likely to be tipping off his pitches with clear indicators for his fastball vs sinker."
   ]
  },
  {
   "cell_type": "code",
   "execution_count": null,
   "metadata": {
    "collapsed": true
   },
   "outputs": [],
   "source": []
  },
  {
   "cell_type": "markdown",
   "metadata": {},
   "source": [
    "Pitch location"
   ]
  },
  {
   "cell_type": "code",
   "execution_count": 21,
   "metadata": {
    "collapsed": false
   },
   "outputs": [
    {
     "data": {
      "text/plain": [
       "<matplotlib.text.Text at 0x115b3e290>"
      ]
     },
     "execution_count": 21,
     "metadata": {},
     "output_type": "execute_result"
    },
    {
     "data": {
      "image/png": "[encoded data removed]",
      "text/plain": [
       "<matplotlib.figure.Figure at 0x115a7ba10>"
      ]
     },
     "metadata": {},
     "output_type": "display_data"
    }
   ],
   "source": [
    "sns.set_context(\"notebook\", font_scale=1.1)\n",
    "sns.set_style(\"ticks\")\n",
    "sns.lmplot('PlateLocSide', 'PlateLocHeight', data = pitcher_x, fit_reg = False, hue = \"PitchCall\", scatter_kws={\"marker\": \"D\", \"s\":50})\n",
    "plt.title('Pitcher X')\n",
    "plt.xlabel('X')\n",
    "plt.ylabel('Y')"
   ]
  },
  {
   "cell_type": "code",
   "execution_count": 22,
   "metadata": {
    "collapsed": false
   },
   "outputs": [
    {
     "data": {
      "text/plain": [
       "<matplotlib.text.Text at 0x115d4e0d0>"
      ]
     },
     "execution_count": 22,
     "metadata": {},
     "output_type": "execute_result"
    },
    {
     "data": {
      "image/png": "[encoded data removed]",
      "text/plain": [
       "<matplotlib.figure.Figure at 0x115245b10>"
      ]
     },
     "metadata": {},
     "output_type": "display_data"
    }
   ],
   "source": [
    "sns.set_context(\"notebook\", font_scale=1.1)\n",
    "sns.set_style(\"ticks\")\n",
    "sns.lmplot('PlateLocSide', 'PlateLocHeight', data = pitcher_y, fit_reg = False, hue = \"PitchCall\", scatter_kws={\"marker\": \"D\", \"s\":50})\n",
    "plt.title('Pitcher Y')\n",
    "plt.xlabel('X')\n",
    "plt.ylabel('Y')"
   ]
  },
  {
   "cell_type": "code",
   "execution_count": 23,
   "metadata": {
    "collapsed": false
   },
   "outputs": [
    {
     "data": {
      "text/plain": [
       "<matplotlib.text.Text at 0x115e7de10>"
      ]
     },
     "execution_count": 23,
     "metadata": {},
     "output_type": "execute_result"
    },
    {
     "data": {
      "image/png": "[encoded data removed]",
      "text/plain": [
       "<matplotlib.figure.Figure at 0x115d58050>"
      ]
     },
     "metadata": {},
     "output_type": "display_data"
    }
   ],
   "source": [
    "sns.set_context(\"notebook\", font_scale=1.1)\n",
    "sns.set_style(\"ticks\")\n",
    "sns.lmplot('PlateLocSide', 'PlateLocHeight', data = pitcher_z, fit_reg = False, hue = \"PitchCall\", scatter_kws={\"marker\": \"D\", \"s\":50})\n",
    "plt.title('Pitcher Z')\n",
    "plt.xlabel('X')\n",
    "plt.ylabel('Y')"
   ]
  },
  {
   "cell_type": "code",
   "execution_count": 24,
   "metadata": {
    "collapsed": true
   },
   "outputs": [
    {
     "data": {
      "text/plain": [
       "9"
      ]
     },
     "execution_count": 24,
     "metadata": {},
     "output_type": "execute_result"
    }
   ],
   "source": [
    "## looking at pitches in the \"middle\" of the plate\n",
    "pitcher_x.loc[(pitcher_x['PlateLocSide']>-.2) & (pitcher_x['PlateLocSide']<.2)].PlateLocSide.count()\n",
    "##13 out of 87 is ~14.9% of pitches\n",
    "pitcher_y.loc[(pitcher_y['PlateLocSide']>-.2) & (pitcher_y['PlateLocSide']<.2)].PlateLocSide.count()\n",
    "##22 out of 108 is ~20.37%\n",
    "pitcher_z.loc[(pitcher_z['PlateLocSide']>-.2) & (pitcher_z['PlateLocSide']<.2)].PlateLocSide.count()\n",
    "##9 out of 83 is ~10.84%"
   ]
  },
  {
   "cell_type": "code",
   "execution_count": 25,
   "metadata": {
    "collapsed": true
   },
   "outputs": [
    {
     "data": {
      "text/plain": [
       "6"
      ]
     },
     "execution_count": 25,
     "metadata": {},
     "output_type": "execute_result"
    }
   ],
   "source": [
    "## looking at pitches well out of the strike zone\n",
    "pitcher_x.loc[(pitcher_x['PlateLocSide']>1.2) | (pitcher_x['PlateLocSide']<-1.2)].PlateLocSide.count()\n",
    "##11 out of 87 is ~12.64%\n",
    "pitcher_y.loc[(pitcher_y['PlateLocSide']>1.2) | (pitcher_y['PlateLocSide']<-1.2)].PlateLocSide.count()\n",
    "##16 out of 108 is ~14.81%\n",
    "pitcher_z.loc[(pitcher_z['PlateLocSide']>1.2) | (pitcher_z['PlateLocSide']<-1.2)].PlateLocSide.count()\n",
    "##6 out of 83 is ~7.23%"
   ]
  },
  {
   "cell_type": "code",
   "execution_count": 26,
   "metadata": {
    "collapsed": true
   },
   "outputs": [
    {
     "data": {
      "text/plain": [
       "0.41053588341260083"
      ]
     },
     "execution_count": 26,
     "metadata": {},
     "output_type": "execute_result"
    }
   ],
   "source": [
    "##the std of pitches inside/outside, by pitcher\n",
    "pitcher_x.loc[(pitcher_x['PlateLocSide']>0)].PlateLocSide.std()\n",
    "#0.44908450885521317\n",
    "pitcher_x.loc[(pitcher_x['PlateLocSide']<0)].PlateLocSide.std()\n",
    "#0.528462654235448\n",
    "pitcher_y.loc[(pitcher_y['PlateLocSide']>0)].PlateLocSide.std()\n",
    "#0.5193228999019741\n",
    "pitcher_y.loc[(pitcher_y['PlateLocSide']<0)].PlateLocSide.std()\n",
    "#0.5220021761394646\n",
    "pitcher_z.loc[(pitcher_z['PlateLocSide']>0)].PlateLocSide.std()\n",
    "#0.3048767620383258\n",
    "pitcher_z.loc[(pitcher_z['PlateLocSide']<0)].PlateLocSide.std()\n",
    "#0.41053588341260083"
   ]
  },
  {
   "cell_type": "markdown",
   "metadata": {},
   "source": [
    "From the visualizations of pitch location, one can roughly see that pitch accuracy can be ranked by pitcher z, x, y - in that order.  Pitcher Z has clumps of pitches nibbling the strike zone while avoiding the center, while Pitcher Y's location of pitches seems more random.\n",
    "\n",
    "To back this up with data, I looked at the number of pitches that ended up in the \"middle\" of the strike zone (defined as -.2 to .2 ft from the center) and the number of pitches that ended up far inside/outside (defined as greater thatn 1.2 ft from the center).  I looked only at pitch location on the X-axis because without batter height info I couldn't quite tell where the strike zone would be vertically for each pitch.\n",
    "\n",
    "From this data, Pitcher Z is the clear winner - with the fewest pitches in the middle of the strike zone as well as the fewest pitches far inside/outside.\n",
    "\n",
    "I also looked at the standard devation of pitches thrown inside and outside.  Here, again, Pitcher Z shows the best command with the lowest SD - suggesting greater accuracy and placement of his pitches."
   ]
  },
  {
   "cell_type": "code",
   "execution_count": null,
   "metadata": {
    "collapsed": true
   },
   "outputs": [],
   "source": []
  },
  {
   "cell_type": "markdown",
   "metadata": {},
   "source": [
    "Pitch Outcome"
   ]
  },
  {
   "cell_type": "code",
   "execution_count": 27,
   "metadata": {
    "collapsed": true
   },
   "outputs": [
    {
     "data": {
      "text/plain": [
       "BallCalled        30\n",
       "InPlay            26\n",
       "StrikeCalled      17\n",
       "FoulBall           7\n",
       "StrikeSwinging     3\n",
       "Name: PitchCall, dtype: int64"
      ]
     },
     "execution_count": 27,
     "metadata": {},
     "output_type": "execute_result"
    }
   ],
   "source": [
    "pitcher_x.PitchCall.value_counts()\n",
    "##87 total pitches\n",
    "##33 strikes ~37.93%\n",
    "##22 balls ~25.29%\n",
    "##17 foul bals ~19.54%\n",
    "##15 in play ~17.24%\n",
    "pitcher_y.PitchCall.value_counts()\n",
    "##108 total pitches\n",
    "##26 strikes ~24.07%\n",
    "##45 balls ~41.67%\n",
    "##19 foul balls ~17.59%\n",
    "##18 in play ~16.67%\n",
    "pitcher_z.PitchCall.value_counts()\n",
    "##83 total pitches\n",
    "##20 strikes ~24.1%\n",
    "##30 balls ~36.14%\n",
    "##7 foul balls ~8.4%\n",
    "##26 in play ~31.33%"
   ]
  },
  {
   "cell_type": "markdown",
   "metadata": {},
   "source": [
    "For my final evaluation, I'll go from worst to best.\n",
    "\n",
    "I like Pitcher Y the least.  His main redeeming quality is his relative consistency in release point.  But his inconsitent command negates this benefit, and when he throws strikes they are thrown too often in the center of the plate.\n",
    "\n",
    "At first glance, I did not like Pitcher Z.  He is clearly not a strikeout pitcher (only one strikeout in the data), and conventional wisdom steers us toward the pitchers with high K totals.  That said, Pitcher Z clearly has the best command of the three, and he makes up for his suboptimal K-rate by inducing contact on less-than-ideal pitches for the batter.\n",
    "\n",
    "Conversely, Pitcher X seems ideal at the initial analysis.  He pounds the strike zone most consistenly, and has the highest K-rate of the three pitchers.  However, a deeper dive suggests a potentially serious flaws - he tips off his pitches with inconsistency in release point - a flaw that may be exploited by a more veteran/savvy hitter.\n",
    "\n",
    "Ultimately, I'd lean toward favoring Pitcher X due to the superior K-rate, but I would be wary on using him if it became apparent that hitters were picking up on the changes in his release point.  I would also lean more toward Pitcher Z if he were backed up by a superior defence that could ably handle his increased number of balls put in play."
   ]
  },
  {
   "cell_type": "code",
   "execution_count": null,
   "metadata": {
    "collapsed": true
   },
   "outputs": [],
   "source": []
  },
  {
   "cell_type": "code",
   "execution_count": null,
   "metadata": {
    "collapsed": true
   },
   "outputs": [],
   "source": []
  }
 ],
 "metadata": {
  "kernelspec": {
   "display_name": "Python 2",
   "language": "python",
   "name": "python2"
  },
  "language_info": {
   "codemirror_mode": {
    "name": "ipython",
    "version": 2
   },
   "file_extension": ".py",
   "mimetype": "text/x-python",
   "name": "python",
   "nbconvert_exporter": "python",
   "pygments_lexer": "ipython2",
   "version": "2.7.11"
  }
 },
 "nbformat": 4,
 "nbformat_minor": 0
}
